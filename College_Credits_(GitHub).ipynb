{
  "nbformat": 4,
  "nbformat_minor": 0,
  "metadata": {
    "colab": {
      "name": "College Credits (GitHub).ipynb",
      "provenance": [],
      "authorship_tag": "ABX9TyPmFzgQgbRGMIqIATvcF1Oj",
      "include_colab_link": true
    },
    "kernelspec": {
      "name": "python3",
      "display_name": "Python 3"
    }
  },
  "cells": [
    {
      "cell_type": "markdown",
      "metadata": {
        "id": "view-in-github",
        "colab_type": "text"
      },
      "source": [
        "<a href=\"https://colab.research.google.com/github/ShivanshGupta1/College-Credits/blob/main/College_Credits_(GitHub).ipynb\" target=\"_parent\"><img src=\"https://colab.research.google.com/assets/colab-badge.svg\" alt=\"Open In Colab\"/></a>"
      ]
    },
    {
      "cell_type": "code",
      "metadata": {
        "id": "-5Mmkufo1nda"
      },
      "source": [
        "user = int(input('Please tell you credits: '))\n",
        "if user<=23:\n",
        "  print('You are a freshman')\n",
        "elif user>24:\n",
        "   if user<53:\n",
        "      print('You are a sophomore')\n",
        "elif user>54:\n",
        "    if user<83:\n",
        "      print('You are a junior')\n",
        "else:\n",
        "    print('You are a senior')\n"
      ],
      "execution_count": null,
      "outputs": []
    }
  ]
}